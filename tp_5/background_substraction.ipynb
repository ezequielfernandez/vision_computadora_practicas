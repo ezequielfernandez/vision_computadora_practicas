{
 "cells": [
  {
   "cell_type": "code",
   "execution_count": 1,
   "metadata": {},
   "outputs": [],
   "source": [
    "%matplotlib inline\n",
    "\n",
    "# OpenCV-Python utiliza NumPy para el manejo de imágenes\n",
    "import numpy as np\n",
    "# cv2 es el módulo python para acceder a OpenCV \n",
    "import cv2 as cv\n",
    "# Usamos las poderosas herramientas de graficación de matplotlib para mostrar imágenes, perfiles, histogramas, etc\n",
    "import matplotlib.pyplot as plt\n",
    "from mpl_toolkits.mplot3d import Axes3D\n",
    "from matplotlib import cm\n",
    "from matplotlib import colors\n",
    "import math\n",
    "import sched, time\n"
   ]
  },
  {
   "cell_type": "code",
   "execution_count": 2,
   "metadata": {},
   "outputs": [],
   "source": [
    "\n",
    "# Abrimos el archivo\n",
    "#-------------------\n",
    "filename_traffic = 'slow_traffic_small.mp4'\n",
    "filename = 'vtest.avi'\n",
    "\n",
    "capture = cv.VideoCapture(filename)\n",
    "\n",
    "if not capture.isOpened:\n",
    "    print('Falla al abrir el archivo: ' + filename)\n",
    "    exit(0)"
   ]
  },
  {
   "cell_type": "code",
   "execution_count": 3,
   "metadata": {},
   "outputs": [],
   "source": [
    "metodo = 'MOG2'\n",
    "#metodo = 'KNN'\n",
    "if metodo == 'MOG2':\n",
    "    backSub = cv.createBackgroundSubtractorMOG2()\n",
    "else:\n",
    "    backSub = cv.createBackgroundSubtractorKNN()\n",
    "    backSub = cv.createBackgroundSubtractorKNN(detectShadows = True)"
   ]
  },
  {
   "cell_type": "code",
   "execution_count": 8,
   "metadata": {},
   "outputs": [],
   "source": [
    "def calculate_background(frames):    \n",
    "    new_mask = np.median(frames, axis=0)\n",
    "\n",
    "    return new_mask.astype(np.uint8)\n",
    "                "
   ]
  },
  {
   "cell_type": "code",
   "execution_count": 9,
   "metadata": {},
   "outputs": [],
   "source": [
    "metodo = 'MOG2'\n",
    "#metodo = 'KNN'\n",
    "if metodo == 'MOG2':\n",
    "    backSub = cv.createBackgroundSubtractorMOG2()\n",
    "else:\n",
    "    backSub = cv.createBackgroundSubtractorKNN()\n",
    "    backSub = cv.createBackgroundSubtractorKNN(detectShadows = True)"
   ]
  },
  {
   "cell_type": "code",
   "execution_count": 17,
   "metadata": {},
   "outputs": [],
   "source": [
    "def substract_backgorund(frames_count, capture, frame_spaces=50):\n",
    "    ret, frame = capture.read()\n",
    "    i = 0\n",
    "    FRAMES = frames_count\n",
    "    frames_to_add = FRAMES - 1\n",
    "    frames = np.zeros((FRAMES, frame.shape[0], frame.shape[1], frame.shape[2]))\n",
    "    should_add_frames = True\n",
    "    add_frames_step = True\n",
    "    frames_added = 0\n",
    "    background = frames[0,:,:,:]\n",
    "    first_frames = True\n",
    "    while True:\n",
    "        # Leemos frames\n",
    "        ret, frame = capture.read()\n",
    "        if frame is None:\n",
    "            break\n",
    "        \n",
    "        if first_frames:\n",
    "            if frames_added < FRAMES:\n",
    "                frames[frames_added] = frame\n",
    "                frames_added = frames_added + 1\n",
    "                background = calculate_background(frames)\n",
    "            else:\n",
    "                first_frames = False\n",
    "                frames_added = 0\n",
    "\n",
    "        if i % frame_spaces == 0 and not first_frames:\n",
    "            if frames_added < frames_to_add:\n",
    "                frames[frames_added] = frame\n",
    "                frames_added = frames_added + 1\n",
    "                background = calculate_background(frames)\n",
    "            else:\n",
    "                frames[frames_added] = background\n",
    "                frames_added = 0\n",
    "            \n",
    "        i = i + 1\n",
    "  \n",
    "        new_frame = cv.subtract(background, frame)\n",
    "        fgMask = backSub.apply(frame)\n",
    "        cv.imshow('Frame', frame)\n",
    "        cv.imshow('Naive method', new_frame)\n",
    "        cv.imshow('background', background)\n",
    "        cv.imshow('FG Mask', fgMask)\n",
    "\n",
    "        # Corremos hasta que termine o apriete escape\n",
    "        keyboard = cv.waitKey(30)\n",
    "        if keyboard == 'q' or keyboard == 27:\n",
    "            break\n",
    "        \n",
    "    cv.destroyAllWindows()\n",
    "    capture.release()"
   ]
  },
  {
   "cell_type": "code",
   "execution_count": 18,
   "metadata": {},
   "outputs": [
    {
     "ename": "KeyboardInterrupt",
     "evalue": "",
     "output_type": "error",
     "traceback": [
      "\u001b[0;31m---------------------------------------------------------------------------\u001b[0m",
      "\u001b[0;31mKeyboardInterrupt\u001b[0m                         Traceback (most recent call last)",
      "\u001b[1;32m/Users/ezefernandez/dev/python/ceia/practicas/vision_computadora_1/tp_5/background_substraction.ipynb Celda 11\u001b[0m in \u001b[0;36m<cell line: 1>\u001b[0;34m()\u001b[0m\n\u001b[0;32m----> <a href='vscode-notebook-cell:/Users/ezefernandez/dev/python/ceia/practicas/vision_computadora_1/tp_5/background_substraction.ipynb#X35sZmlsZQ%3D%3D?line=0'>1</a>\u001b[0m substract_backgorund(\u001b[39m6\u001b[39;49m, capture, \u001b[39m50\u001b[39;49m)\n",
      "\u001b[1;32m/Users/ezefernandez/dev/python/ceia/practicas/vision_computadora_1/tp_5/background_substraction.ipynb Celda 11\u001b[0m in \u001b[0;36msubstract_backgorund\u001b[0;34m(frames_count, capture, frame_spaces)\u001b[0m\n\u001b[1;32m     <a href='vscode-notebook-cell:/Users/ezefernandez/dev/python/ceia/practicas/vision_computadora_1/tp_5/background_substraction.ipynb#X35sZmlsZQ%3D%3D?line=42'>43</a>\u001b[0m cv\u001b[39m.\u001b[39mimshow(\u001b[39m'\u001b[39m\u001b[39mFG Mask\u001b[39m\u001b[39m'\u001b[39m, fgMask)\n\u001b[1;32m     <a href='vscode-notebook-cell:/Users/ezefernandez/dev/python/ceia/practicas/vision_computadora_1/tp_5/background_substraction.ipynb#X35sZmlsZQ%3D%3D?line=44'>45</a>\u001b[0m \u001b[39m# Corremos hasta que termine o apriete escape\u001b[39;00m\n\u001b[0;32m---> <a href='vscode-notebook-cell:/Users/ezefernandez/dev/python/ceia/practicas/vision_computadora_1/tp_5/background_substraction.ipynb#X35sZmlsZQ%3D%3D?line=45'>46</a>\u001b[0m keyboard \u001b[39m=\u001b[39m cv\u001b[39m.\u001b[39;49mwaitKey(\u001b[39m30\u001b[39;49m)\n\u001b[1;32m     <a href='vscode-notebook-cell:/Users/ezefernandez/dev/python/ceia/practicas/vision_computadora_1/tp_5/background_substraction.ipynb#X35sZmlsZQ%3D%3D?line=46'>47</a>\u001b[0m \u001b[39mif\u001b[39;00m keyboard \u001b[39m==\u001b[39m \u001b[39m'\u001b[39m\u001b[39mq\u001b[39m\u001b[39m'\u001b[39m \u001b[39mor\u001b[39;00m keyboard \u001b[39m==\u001b[39m \u001b[39m27\u001b[39m:\n\u001b[1;32m     <a href='vscode-notebook-cell:/Users/ezefernandez/dev/python/ceia/practicas/vision_computadora_1/tp_5/background_substraction.ipynb#X35sZmlsZQ%3D%3D?line=47'>48</a>\u001b[0m     \u001b[39mbreak\u001b[39;00m\n",
      "\u001b[0;31mKeyboardInterrupt\u001b[0m: "
     ]
    }
   ],
   "source": [
    "substract_backgorund(6, capture, 50)"
   ]
  },
  {
   "cell_type": "markdown",
   "metadata": {},
   "source": [
    "Vemos que el metodo naive se comporta muy bien respecto a otros metodos de substracción de fondo, incluso mejorando respecto al ruido. El calculo del fondo se realiza cada 50 frames, y se agrega un frame cada 50 al buffer de frames a considerar para calcular la media. De este modo se favorece al fondo respecto a los objetos que te mueven. Los campos cantidad de frames y espacio entre frames a actualizar para el fondo son configurables por parametros"
   ]
  }
 ],
 "metadata": {
  "kernelspec": {
   "display_name": "Python 3.9.12 ('base')",
   "language": "python",
   "name": "python3"
  },
  "language_info": {
   "codemirror_mode": {
    "name": "ipython",
    "version": 3
   },
   "file_extension": ".py",
   "mimetype": "text/x-python",
   "name": "python",
   "nbconvert_exporter": "python",
   "pygments_lexer": "ipython3",
   "version": "3.9.12"
  },
  "orig_nbformat": 4,
  "vscode": {
   "interpreter": {
    "hash": "2694cdbf4718a5ec247b545273d596d40a2acbca35541806ef80a95b7d0be348"
   }
  }
 },
 "nbformat": 4,
 "nbformat_minor": 2
}
